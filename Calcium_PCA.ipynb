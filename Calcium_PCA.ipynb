{
 "cells": [
  {
   "cell_type": "code",
   "execution_count": null,
   "metadata": {},
   "outputs": [],
   "source": [
    "import os\n",
    "import math\n",
    "import numpy as np\n",
    "from numpy import genfromtxt\n",
    "import pandas as pd\n",
    "import matplotlib.pyplot as plt\n",
    "import matplotlib.patches as mpatches\n",
    "from sklearn.decomposition import PCA\n",
    "from mpl_toolkits import mplot3d\n",
    "from numpy import random as rd\n",
    "import time\n",
    "import pylab as pl\n",
    "from IPython.core.display import display, HTML\n",
    "display(HTML(\"<style>.container { width:90% !important; }</style>\"))\n",
    "display(HTML(\"\"\"\n",
    "<style>\n",
    ".container { width:100% !important; }\n",
    ".output {\n",
    "    display: flex;\n",
    "    align-items: center;\n",
    "    text-align: center;\n",
    "}\n",
    "</style>\n",
    "\"\"\"))\n",
    "from IPython import display"
   ]
  },
  {
   "cell_type": "markdown",
   "metadata": {},
   "source": [
    "### Load traces, normalize them, and plot them\n",
    "> #### Specify path to data and whether the data should be normalized"
   ]
  },
  {
   "cell_type": "code",
   "execution_count": null,
   "metadata": {},
   "outputs": [],
   "source": [
    "%matplotlib inline\n",
    "firingRates = np.genfromtxt(\"/media/joezaki/CSstorage/Joe/RLI_Experiment/RLI2/RLI2_Habituation/RLI2-3_HabituationDay2AndSetHeight/RLI2-3_HabituationDay2AndSetHeightRLI2_Habituation_minian_spikes.csv\", delimiter=',')\n",
    "normalize = True\n",
    "Time = np.arange(0, firingRates.shape[1]/30, 1/30)\n",
    "\n",
    "if normalize:\n",
    "    for i in range(firingRates.shape[0]):\n",
    "        firingRates[i,:]  = firingRates[i,:]/firingRates[i,:].max()\n",
    "\n",
    "# Plot all currents as heatmap\n",
    "plt.figure(figsize=(25,8))\n",
    "plt.imshow(firingRates, aspect='auto', cmap='viridis')\n",
    "plt.colorbar()\n",
    "plt.show()\n",
    "\n",
    "# Plot individual currents\n",
    "plt.figure(figsize=(20,8))\n",
    "for i in range(30):\n",
    "    plt.plot(firingRates[i,:] + i*firingRates[i,:].max(), linewidth=1)\n",
    "plt.ylabel(\"Current\")\n",
    "plt.xlabel(\"Time\")\n",
    "plt.show()"
   ]
  },
  {
   "cell_type": "markdown",
   "metadata": {},
   "source": [
    "### Run PCA, project rates onto first PCs, plot sorted eigenvalues & plot first eigenvectors\n",
    "> - #### Transpose firingRates (i.e. firingRates.copy().T on line 2) if you would like to collapse across cell dimension (for state space analysis)\n",
    "> - #### *numProjections*: Specify number of PCs to project data onto (usually 3)\n",
    "> - #### *numvectors*: Specify number of eigenvectors to plot"
   ]
  },
  {
   "cell_type": "code",
   "execution_count": null,
   "metadata": {},
   "outputs": [],
   "source": [
    "%matplotlib inline\n",
    "rates = firingRates.copy().T\n",
    "rates -= np.mean(rates, axis=0)\n",
    "covMat = (1.0/(rates.shape[0]-1))*(rates.T @ rates) # covariance matrix\n",
    "#evalues, evectors = np.linalg.eig(covMat) # eigenvalues and eigenvectors\n",
    "evectors, evalues, V = np.linalg.svd(covMat)\n",
    "numProjections = 3 # number of dimensions\n",
    "projections = np.zeros((numProjections,rates.shape[0]))\n",
    "for x in range(numProjections):\n",
    "    projections[x,:] = np.dot(rates, evectors.T[x]) # projections of principal components onto firing rates\n",
    "\n",
    "numvectors = 3\n",
    "plt.figure(figsize=(20,8))\n",
    "plt.scatter(x=np.arange(len(evalues)), y=evalues, marker='o', s=20)\n",
    "plt.xlabel('Eigenvalues (Principal Components)', fontsize=20)\n",
    "plt.ylabel('Explained Variance', fontsize=20)\n",
    "plt.title('Explained Variance Per Principal Component', fontsize=30)\n",
    "plt.show()\n",
    "plt.figure(figsize=(30,10))\n",
    "for n in range(numvectors):\n",
    "    plt.scatter(range(evectors.shape[1]), evectors.T[n] - n, s=10)\n",
    "    plt.vlines(x=range(evectors.shape[1]), ymin=-n, ymax=-n+evectors.T[n], linewidth=2, alpha=0.5)\n",
    "    plt.hlines(y=-n, xmin=0, xmax=evectors.shape[1], linewidth=1, alpha=0.5)\n",
    "    plt.text(x=-4, y=-n, s='PC ' + str(n+1), fontsize=15, c='black')\n",
    "plt.vlines(x=range(evectors.shape[1]), ymin=-numvectors+1, ymax=0, linestyles=':', alpha=0.2)\n",
    "unitnames = [str(x) for x in range(evectors.shape[1])]\n",
    "for txt in range(evectors.shape[1]):\n",
    "    plt.text(y = -numvectors/2, x = np.arange(evectors.shape[1])[txt], s = unitnames[txt], fontsize=7, horizontalalignment='center')\n",
    "plt.ylabel('Loadings', fontsize=20)\n",
    "plt.xlabel('Units', fontsize=20)\n",
    "plt.title('Eigenvectors for first ' + str(numvectors) + \" PCs\", fontsize=30)\n",
    "plt.show()"
   ]
  },
  {
   "cell_type": "markdown",
   "metadata": {},
   "source": [
    "### Plot 3D PC space color-coded based on the progression of time"
   ]
  },
  {
   "cell_type": "code",
   "execution_count": null,
   "metadata": {},
   "outputs": [],
   "source": [
    "%matplotlib notebook\n",
    "fig = plt.figure(figsize=(25,10))\n",
    "ax = fig.add_subplot(111, projection='3d')\n",
    "ax.plot(projections[0,:], projections[1,:], projections[2,:], c='grey', alpha=0.4, linewidth=1)\n",
    "ax.scatter(projections[0,0], projections[1,0], projections[2,0], marker='*', c='green', s=100) # start timepoint\n",
    "stimScatterthroughTime = ax.scatter(projections[0,:], projections[1,:], projections[2,:], '.', c = Time, cmap='viridis', s=30, alpha=0.4)\n",
    "fig.colorbar(stimScatterthroughTime)\n",
    "ax.set_xlabel('First Principal Component', fontsize=10)\n",
    "ax.set_ylabel('Second Principal Component', fontsize=10)\n",
    "ax.set_zlabel('Third Principal Component', fontsize=10)\n",
    "fig.show()"
   ]
  },
  {
   "cell_type": "markdown",
   "metadata": {},
   "source": [
    "### Plot animation of progression of time in 3D PC space\n",
    "> #### Press 'i' twice to interrupt kernel and stop running animation"
   ]
  },
  {
   "cell_type": "code",
   "execution_count": null,
   "metadata": {},
   "outputs": [],
   "source": [
    "%matplotlib inline\n",
    "\n",
    "for i in range(projections.shape[1]-1):\n",
    "    fig = plt.figure(figsize=(22,10))\n",
    "    ax = fig.add_subplot(111, projection='3d')\n",
    "\n",
    "    ax.plot(projections[0,:i+1], projections[1,:i+1], projections[2,:i+1], c='grey', alpha=0.4, linewidth=1) # grey line\n",
    "    ax.scatter(projections[0,0], projections[1,0], projections[2,0], marker='*', c='green', s=100) # start timepoint as green star\n",
    "    stimScatterthroughTime = ax.scatter(projections[0,:i+1], projections[1,:i+1], projections[2,:i+1], '.', c='salmon', s=30, alpha=0.4) # add each next point in salmon\n",
    "    ax.scatter(projections[0,i], projections[1,i], projections[2,i], '.', c='darkred', s=30) # mark current point as dark red\n",
    "\n",
    "    timepatch = mpatches.Patch(color='darkred',label=(\"Time: \" + str(np.round(i/30, decimals=3)) + 'sec'))\n",
    "    coordpatch = mpatches.Patch(color='darkred', label=\"Coord: \" + str(np.round(projections[0,i+1], decimals=3)) + ',' +\n",
    "                                str(np.round(projections[1,i+1], decimals=3)) + ',' +\n",
    "                                str(np.round(projections[2,i+1], decimals=3)))\n",
    "    plt.legend(handles = [coordpatch, timepatch],loc='upper right',fontsize=15)\n",
    "    # Fix axes in place from the start to the min and max of each axes\n",
    "    ax.set_xlim(projections[0,:].min(),projections[0,:].max())\n",
    "    ax.set_ylim(projections[1,:].min(),projections[1,:].max())\n",
    "    ax.set_zlim(projections[2,:].min(),projections[2,:].max())\n",
    "    ax.set_xlabel('First Principal Component', fontsize=10)\n",
    "    ax.set_ylabel('Second Principal Component', fontsize=10)\n",
    "    ax.set_zlabel('Third Principal Component', fontsize=10)\n",
    "\n",
    "    display.clear_output(wait=True)\n",
    "    display.display(pl.gcf())\n",
    "    time.sleep(0.00001)\n",
    "    plt.close(fig)"
   ]
  },
  {
   "cell_type": "markdown",
   "metadata": {},
   "source": [
    "### Plot cross correlation of rates"
   ]
  },
  {
   "cell_type": "code",
   "execution_count": null,
   "metadata": {},
   "outputs": [],
   "source": [
    "%matplotlib inline\n",
    "plt.figure(figsize=(12,10))\n",
    "plt.imshow(np.corrcoef(firingRates))\n",
    "plt.colorbar()\n",
    "plt.show()"
   ]
  },
  {
   "cell_type": "code",
   "execution_count": null,
   "metadata": {},
   "outputs": [],
   "source": []
  }
 ],
 "metadata": {
  "kernelspec": {
   "display_name": "Python 3",
   "language": "python",
   "name": "python3"
  },
  "language_info": {
   "codemirror_mode": {
    "name": "ipython",
    "version": 3
   },
   "file_extension": ".py",
   "mimetype": "text/x-python",
   "name": "python",
   "nbconvert_exporter": "python",
   "pygments_lexer": "ipython3",
   "version": "3.7.4"
  },
  "varInspector": {
   "cols": {
    "lenName": 16,
    "lenType": 16,
    "lenVar": 40
   },
   "kernels_config": {
    "python": {
     "delete_cmd_postfix": "",
     "delete_cmd_prefix": "del ",
     "library": "var_list.py",
     "varRefreshCmd": "print(var_dic_list())"
    },
    "r": {
     "delete_cmd_postfix": ") ",
     "delete_cmd_prefix": "rm(",
     "library": "var_list.r",
     "varRefreshCmd": "cat(var_dic_list()) "
    }
   },
   "position": {
    "height": "508.646px",
    "left": "1548.67px",
    "right": "20px",
    "top": "120px",
    "width": "351.333px"
   },
   "types_to_exclude": [
    "module",
    "function",
    "builtin_function_or_method",
    "instance",
    "_Feature"
   ],
   "window_display": false
  }
 },
 "nbformat": 4,
 "nbformat_minor": 4
}
